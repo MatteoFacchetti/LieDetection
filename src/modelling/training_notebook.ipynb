{
 "cells": [
  {
   "cell_type": "code",
   "execution_count": 8,
   "metadata": {
    "ExecuteTime": {
     "end_time": "2019-11-07T14:05:53.394117Z",
     "start_time": "2019-11-07T14:05:53.389124Z"
    }
   },
   "outputs": [
    {
     "name": "stdout",
     "output_type": "stream",
     "text": [
      "/home/3005019/Deep Learning/LieDetection/home/3005019/Deep Learning/LieDetection/src\n"
     ]
    }
   ],
   "source": [
    "cd .."
   ]
  },
  {
   "cell_type": "code",
   "execution_count": 9,
   "metadata": {
    "ExecuteTime": {
     "end_time": "2019-11-07T14:06:20.945538Z",
     "start_time": "2019-11-07T14:06:20.940784Z"
    }
   },
   "outputs": [],
   "source": [
    "run_config = \"../config/run.yaml\""
   ]
  },
  {
   "cell_type": "code",
   "execution_count": 11,
   "metadata": {
    "ExecuteTime": {
     "end_time": "2019-11-07T14:07:25.391658Z",
     "start_time": "2019-11-07T14:06:29.573220Z"
    }
   },
   "outputs": [
    {
     "name": "stderr",
     "output_type": "stream",
     "text": [
      "2019-11-07 15:06:29,620 - __main__ - INFO - Run configuration file: ../config/run.yaml\n",
      "2019-11-07 15:06:29,636 - __main__ - INFO - Loading images...\n"
     ]
    },
    {
     "name": "stdout",
     "output_type": "stream",
     "text": [
      "<class 'tuple'>\n",
      "(224, 224)\n"
     ]
    },
    {
     "name": "stderr",
     "output_type": "stream",
     "text": [
      "100%|██████████| 100/100 [00:00<00:00, 132.51it/s]\n",
      "2019-11-07 15:06:30,652 - __main__ - INFO - Images loaded successfully.\n",
      "2019-11-07 15:06:30,655 - __main__ - INFO - Total number of frames loaded: 100\n",
      "2019-11-07 15:06:30,658 - __main__ - INFO - Processing data...\n",
      "2019-11-07 15:06:30,711 - __main__ - INFO - Performing data augmentation...\n",
      "2019-11-07 15:06:30,713 - __main__ - INFO - Building the model...\n"
     ]
    },
    {
     "name": "stdout",
     "output_type": "stream",
     "text": [
      "\n",
      " Time taken: 0 hours 0 minutes and 0.77 seconds.\n",
      "WARNING:tensorflow:From /home/3005019/anaconda3/lib/python3.7/site-packages/keras/backend/tensorflow_backend.py:4070: The name tf.nn.max_pool is deprecated. Please use tf.nn.max_pool2d instead.\n",
      "\n"
     ]
    },
    {
     "name": "stderr",
     "output_type": "stream",
     "text": [
      "2019-11-07 15:06:30,952 - tensorflow - WARNING - From /home/3005019/anaconda3/lib/python3.7/site-packages/keras/backend/tensorflow_backend.py:4070: The name tf.nn.max_pool is deprecated. Please use tf.nn.max_pool2d instead.\n",
      "\n",
      "/home/3005019/anaconda3/lib/python3.7/site-packages/keras_applications/resnet50.py:265: UserWarning: The output shape of `ResNet50(include_top=False)` has been changed since Keras 2.2.0.\n",
      "  warnings.warn('The output shape of `ResNet50(include_top=False)` '\n"
     ]
    },
    {
     "name": "stdout",
     "output_type": "stream",
     "text": [
      "WARNING:tensorflow:From /home/3005019/anaconda3/lib/python3.7/site-packages/keras/backend/tensorflow_backend.py:4074: The name tf.nn.avg_pool is deprecated. Please use tf.nn.avg_pool2d instead.\n",
      "\n"
     ]
    },
    {
     "name": "stderr",
     "output_type": "stream",
     "text": [
      "2019-11-07 15:06:40,402 - tensorflow - WARNING - From /home/3005019/anaconda3/lib/python3.7/site-packages/keras/backend/tensorflow_backend.py:4074: The name tf.nn.avg_pool is deprecated. Please use tf.nn.avg_pool2d instead.\n",
      "\n",
      "2019-11-07 15:06:40,478 - __main__ - INFO - Compiling model...\n",
      "2019-11-07 15:06:40,578 - __main__ - INFO - Training head of the model...\n"
     ]
    },
    {
     "name": "stdout",
     "output_type": "stream",
     "text": [
      "WARNING:tensorflow:From /home/3005019/anaconda3/lib/python3.7/site-packages/tensorflow/python/ops/math_grad.py:1250: add_dispatch_support.<locals>.wrapper (from tensorflow.python.ops.array_ops) is deprecated and will be removed in a future version.\n",
      "Instructions for updating:\n",
      "Use tf.where in 2.0, which has the same broadcast rule as np.where\n"
     ]
    },
    {
     "name": "stderr",
     "output_type": "stream",
     "text": [
      "2019-11-07 15:06:40,756 - tensorflow - WARNING - From /home/3005019/anaconda3/lib/python3.7/site-packages/tensorflow/python/ops/math_grad.py:1250: add_dispatch_support.<locals>.wrapper (from tensorflow.python.ops.array_ops) is deprecated and will be removed in a future version.\n",
      "Instructions for updating:\n",
      "Use tf.where in 2.0, which has the same broadcast rule as np.where\n"
     ]
    },
    {
     "name": "stdout",
     "output_type": "stream",
     "text": [
      "WARNING:tensorflow:From /home/3005019/anaconda3/lib/python3.7/site-packages/keras/backend/tensorflow_backend.py:422: The name tf.global_variables is deprecated. Please use tf.compat.v1.global_variables instead.\n",
      "\n"
     ]
    },
    {
     "name": "stderr",
     "output_type": "stream",
     "text": [
      "2019-11-07 15:06:41,596 - tensorflow - WARNING - From /home/3005019/anaconda3/lib/python3.7/site-packages/keras/backend/tensorflow_backend.py:422: The name tf.global_variables is deprecated. Please use tf.compat.v1.global_variables instead.\n",
      "\n"
     ]
    },
    {
     "name": "stdout",
     "output_type": "stream",
     "text": [
      "Epoch 1/5\n",
      "2/2 [==============================] - 12s 6s/step - loss: 6.2291 - accuracy: 0.6250 - val_loss: 6.9000 - val_accuracy: 0.5500\n",
      "Epoch 2/5\n",
      "2/2 [==============================] - 4s 2s/step - loss: 8.1458 - accuracy: 0.4688 - val_loss: 6.9000 - val_accuracy: 0.5500\n",
      "Epoch 3/5\n",
      "2/2 [==============================] - 4s 2s/step - loss: 5.7500 - accuracy: 0.6250 - val_loss: 6.9000 - val_accuracy: 0.5500\n",
      "Epoch 4/5\n",
      "2/2 [==============================] - 4s 2s/step - loss: 6.7083 - accuracy: 0.5625 - val_loss: 6.9000 - val_accuracy: 0.5500\n",
      "Epoch 5/5\n",
      "2/2 [==============================] - 4s 2s/step - loss: 6.7083 - accuracy: 0.5625 - val_loss: 6.9000 - val_accuracy: 0.5500\n"
     ]
    },
    {
     "name": "stderr",
     "output_type": "stream",
     "text": [
      "2019-11-07 15:07:09,609 - __main__ - INFO - Evaluating network...\n"
     ]
    },
    {
     "name": "stdout",
     "output_type": "stream",
     "text": [
      "\n",
      " Time taken: 0 hours 0 minutes and 29.03 seconds.\n",
      "              precision    recall  f1-score   support\n",
      "\n",
      "         Lie       1.00      1.00      1.00        20\n",
      "\n",
      "    accuracy                           1.00        20\n",
      "   macro avg       1.00      1.00      1.00        20\n",
      "weighted avg       1.00      1.00      1.00        20\n",
      "\n"
     ]
    },
    {
     "data": {
      "image/png": "[encoded data removed]",
      "text/plain": [
       "<Figure size 432x288 with 1 Axes>"
      ]
     },
     "metadata": {},
     "output_type": "display_data"
    },
    {
     "name": "stderr",
     "output_type": "stream",
     "text": [
      "2019-11-07 15:07:14,487 - __main__ - INFO - Saving model...\n"
     ]
    },
    {
     "data": {
      "text/plain": [
       "<Figure size 432x288 with 0 Axes>"
      ]
     },
     "metadata": {},
     "output_type": "display_data"
    }
   ],
   "source": [
    "import click\n",
    "import logging\n",
    "import os\n",
    "import numpy as np\n",
    "import matplotlib.pyplot as plt\n",
    "import pickle\n",
    "import random\n",
    "\n",
    "import cv2\n",
    "from imutils import paths\n",
    "from tqdm import tqdm\n",
    "from sklearn.preprocessing import LabelBinarizer\n",
    "from sklearn.model_selection import train_test_split\n",
    "from sklearn.metrics import classification_report\n",
    "from keras.preprocessing.image import ImageDataGenerator\n",
    "from keras.applications import ResNet50\n",
    "from keras.layers import Input\n",
    "from keras.layers.pooling import AveragePooling2D\n",
    "from keras.layers.core import Dropout\n",
    "from keras.layers.core import Flatten\n",
    "from keras.layers.core import Dense\n",
    "from keras.models import Model\n",
    "from keras.optimizers import SGD\n",
    "\n",
    "from utils import file_utils\n",
    "from utils.model_utils import timer\n",
    "\n",
    "\n",
    "def main(run_config):\n",
    "    # Initialize\n",
    "    logger = logging.getLogger(__name__)\n",
    "    logger.info(f\"Run configuration file: {run_config}\")\n",
    "\n",
    "    # Read configuration file\n",
    "    run_cfg = file_utils.read_yaml(run_config)\n",
    "    train = run_cfg[\"train\"]\n",
    "    plot_to_file = run_cfg[\"evaluation\"][\"plot_to_file\"]\n",
    "    plot_path = run_cfg[\"evaluation\"][\"plot\"]\n",
    "    model_name = run_cfg[\"modelling\"][\"model_name\"]\n",
    "    sample_mode = run_cfg[\"modelling\"][\"sample_mode\"]\n",
    "    data_augmentation = run_cfg[\"modelling\"][\"data_augmentation\"]\n",
    "    image_size = tuple(run_cfg[\"modelling\"][\"image_size\"])\n",
    "\n",
    "    # Grab the list of images and initialize the lists data and images\n",
    "    logger.info(\"Loading images...\")\n",
    "    image_paths = list(paths.list_images(train))\n",
    "    if sample_mode:\n",
    "        n_frames = 100\n",
    "        epochs = 5\n",
    "        image_paths = random.choices(image_paths, k=n_frames)\n",
    "    else:\n",
    "        n_frames = 88017\n",
    "        epochs = run_cfg[\"modelling\"][\"epochs\"]\n",
    "    data = []\n",
    "    labels = []\n",
    "\n",
    "    # Loop over the image paths\n",
    "    start_time = timer(None)\n",
    "    for i in tqdm(range(n_frames)):\n",
    "        # Extract the class label from the filename\n",
    "        image_path = image_paths[i]\n",
    "        label = image_path.split(os.path.sep)[-2]\n",
    "\n",
    "        # Load the image (reshape e rimappare i colori in base al pretrained model che andiamo a usare)\n",
    "        image = cv2.imread(image_path)\n",
    "        image = cv2.cvtColor(image, cv2.COLOR_BGR2RGB)\n",
    "        image = cv2.resize(image, image_size[0:2])\n",
    "\n",
    "        # Update data and label lists\n",
    "        data.append(image)\n",
    "        labels.append(label)\n",
    "    logger.info(\"Images loaded successfully.\")\n",
    "    logger.info(f\"Total number of frames loaded: {n_frames}\")\n",
    "    timer(start_time)\n",
    "\n",
    "    # Convert data and labels to numpy arrays\n",
    "    logger.info(\"Processing data...\")\n",
    "    os.environ['KMP_WARNINGS'] = 'off'\n",
    "    data = np.array(data)\n",
    "    labels = np.array(labels)\n",
    "\n",
    "    # Perform one-hot encoding on the labels\n",
    "    lb = LabelBinarizer()\n",
    "    labels = lb.fit_transform(labels)\n",
    "\n",
    "    # Train-test split (80%-20%)\n",
    "    (X_train, X_test, y_train, y_test) = train_test_split(data, labels, test_size=0.2, stratify=labels, random_state=42)\n",
    "\n",
    "    # Initialize training data augmentation object\n",
    "    if data_augmentation:\n",
    "        logger.info(\"Performing data augmentation...\")\n",
    "        train_aug = ImageDataGenerator(\n",
    "            rotation_range=30,\n",
    "            zoom_range=0.15,\n",
    "            width_shift_range=0.2,\n",
    "            height_shift_range=0.2,\n",
    "            shear_range=0.15,\n",
    "            fill_mode=\"nearest\"\n",
    "        )\n",
    "    else:\n",
    "        logger.info(\"Data augmentation not performed\")\n",
    "        train_aug = ImageDataGenerator()\n",
    "    test_aug = ImageDataGenerator()\n",
    "\n",
    "    # Center pixel values and intensities (to increase training speed and accuracy)\n",
    "    # Se si vuole calcolare manualmente l'intensità media dei pixel: X_train.mean(axis=(0, 1, 2))\n",
    "    mean = np.array([123.68, 116.779, 103.939], dtype=\"float32\")\n",
    "    train_aug.mean = mean\n",
    "    test_aug.mean = mean\n",
    "\n",
    "    # Load ResNet-50 network for fine tuning\n",
    "    logger.info(\"Building the model...\")\n",
    "    base_model = ResNet50(weights=\"imagenet\", include_top=False, input_tensor=Input(shape=image_size))\n",
    "    head_model = base_model.output\n",
    "    head_model = AveragePooling2D(pool_size=(7, 7))(head_model)\n",
    "    head_model = Flatten(name=\"flatten\")(head_model)\n",
    "    head_model = Dense(512, activation=\"relu\")(head_model)\n",
    "    head_model = Dropout(0.5)(head_model)\n",
    "    head_model = Dense(1, activation=\"softmax\")(head_model)\n",
    "    model = Model(inputs=base_model.input, outputs=head_model)\n",
    "\n",
    "    # Freeze the base model to prevent it from being updated during the training process\n",
    "    for layer in base_model.layers:\n",
    "        layer.trainable = False\n",
    "\n",
    "    # Compile the model\n",
    "    logger.info(\"Compiling model...\")\n",
    "    opt = SGD(lr=1e-4, momentum=0.9, decay=1e-4 / epochs)\n",
    "    model.compile(loss=\"binary_crossentropy\", optimizer=opt, metrics=[\"accuracy\"])\n",
    "\n",
    "    # Train the head of the network (fine tuning)\n",
    "    logger.info(\"Training head of the model...\")\n",
    "    start_time = timer(None)\n",
    "    head = model.fit_generator(\n",
    "        train_aug.flow(X_train, y_train, batch_size=32),\n",
    "        steps_per_epoch=len(X_train) // 32,\n",
    "        validation_data=test_aug.flow(X_test, y_test),\n",
    "        validation_steps=len(X_test) // 32,\n",
    "        epochs=epochs\n",
    "    )\n",
    "    timer(start_time)\n",
    "\n",
    "    # Evaluate the network\n",
    "    logger.info(\"Evaluating network...\")\n",
    "    predictions = model.predict(X_test, batch_size=32)\n",
    "    print(classification_report(y_test.argmax(axis=1), predictions.argmax(axis=1), target_names=[\"Lie\"]))\n",
    "\n",
    "    # Plot train loss and accuracy\n",
    "    n = epochs\n",
    "    plt.style.use(\"ggplot\")\n",
    "    plt.figure()\n",
    "    plt.plot(np.arange(0, n), head.history[\"loss\"], label=\"train_loss\")\n",
    "    plt.plot(np.arange(0, n), head.history[\"val_loss\"], label=\"test_loss\")\n",
    "    plt.plot(np.arange(0, n), head.history[\"accuracy\"], label=\"train_acc\")\n",
    "    plt.plot(np.arange(0, n), head.history[\"val_accuracy\"], label=\"test_acc\")\n",
    "    plt.title(\"Train and Test Loss and Accuracy\")\n",
    "    plt.xlabel(\"Number of epochs\")\n",
    "    plt.ylabel(\"Loss/Accuracy\")\n",
    "    plt.legend(loc=\"lower left\")\n",
    "    plt.show()\n",
    "    if plot_to_file:\n",
    "        plt.savefig(f\"{plot_path}/loss_acc.png\")\n",
    "\n",
    "    # Save the model\n",
    "    logger.info(\"Saving model...\")\n",
    "    try:\n",
    "        model.save(f\"../models/{model_name}/estimator.model\")\n",
    "    except OSError:\n",
    "        os.mkdir(f\"../models/{model_name}\")\n",
    "        model.save(f\"../models/{model_name}/estimator.model\")\n",
    "\n",
    "    # Save the label binarizer\n",
    "    f = open(f\"../models/{model_name}/label_binarizer.pickle\", \"wb\")\n",
    "    f.write(pickle.dumps(lb))\n",
    "    f.close()\n",
    "\n",
    "\n",
    "log_fmt = '%(asctime)s - %(name)s - %(levelname)s - %(message)s'\n",
    "logging.basicConfig(level=logging.INFO, format=log_fmt)\n",
    "main(run_config)"
   ]
  },
  {
   "cell_type": "code",
   "execution_count": null,
   "metadata": {},
   "outputs": [],
   "source": []
  }
 ],
 "metadata": {
  "kernelspec": {
   "display_name": "Python 3",
   "language": "python",
   "name": "python3"
  },
  "language_info": {
   "codemirror_mode": {
    "name": "ipython",
    "version": 3
   },
   "file_extension": ".py",
   "mimetype": "text/x-python",
   "name": "python",
   "nbconvert_exporter": "python",
   "pygments_lexer": "ipython3",
   "version": "3.7.3"
  },
  "toc": {
   "base_numbering": 1,
   "nav_menu": {},
   "number_sections": true,
   "sideBar": true,
   "skip_h1_title": false,
   "title_cell": "Table of Contents",
   "title_sidebar": "Contents",
   "toc_cell": false,
   "toc_position": {},
   "toc_section_display": true,
   "toc_window_display": false
  }
 },
 "nbformat": 4,
 "nbformat_minor": 2
}
